{
  "nbformat": 4,
  "nbformat_minor": 0,
  "metadata": {
    "colab": {
      "provenance": [],
      "authorship_tag": "ABX9TyNuAAiRTpyXYqCb95oHJ0c8",
      "include_colab_link": true
    },
    "kernelspec": {
      "name": "python3",
      "display_name": "Python 3"
    },
    "language_info": {
      "name": "python"
    }
  },
  "cells": [
    {
      "cell_type": "markdown",
      "metadata": {
        "id": "view-in-github",
        "colab_type": "text"
      },
      "source": [
        "<a href=\"https://colab.research.google.com/github/naashonomics/GPTs/blob/main/RegWizardGPT.ipynb\" target=\"_parent\"><img src=\"https://colab.research.google.com/assets/colab-badge.svg\" alt=\"Open In Colab\"/></a>"
      ]
    },
    {
      "cell_type": "markdown",
      "source": [
        "How do I write a regex for emails?\n"
      ],
      "metadata": {
        "id": "wnr3rmpYaz0n"
      }
    },
    {
      "cell_type": "code",
      "source": [
        "import re\n",
        "\n",
        "def is_valid_email(email):\n",
        "    pattern = r\"^[a-zA-Z0-9._%+-]+@[a-zA-Z0-9.-]+\\.[a-zA-Z]{2,}$\"\n",
        "    if re.match(pattern, email):\n",
        "        return True\n",
        "    else:\n",
        "        return False\n",
        "\n",
        "# Example usage\n",
        "email = \"example@example.com\"\n",
        "print(is_valid_email(email))  # Output: True or False\n",
        "email1 = \"example@google.com\"\n",
        "print(is_valid_email(email1))  # Output: True or False\n",
        "email2 = \"example@google.co1s\"\n",
        "print(is_valid_email(email2))  # Output: True or False"
      ],
      "metadata": {
        "id": "rEJ4UXzYay7g"
      },
      "execution_count": null,
      "outputs": []
    },
    {
      "cell_type": "markdown",
      "source": [
        "How do write a regex to extract words between <i> and </i> tags.\n"
      ],
      "metadata": {
        "id": "B_3EX7RPaxQx"
      }
    },
    {
      "cell_type": "code",
      "source": [
        "import re\n",
        "\n",
        "text = \"This is <i>italic text</i> in a sentence.\"\n",
        "pattern = r\"<i>(.*?)<\\/i>\"\n",
        "\n",
        "matches = re.findall(pattern, text)\n",
        "\n",
        "for match in matches:\n",
        "    print(match)"
      ],
      "metadata": {
        "colab": {
          "base_uri": "https://localhost:8080/"
        },
        "id": "e0d285CRa7Xw",
        "outputId": "0bb3e5ed-152a-48da-e1c3-a835b5e48aac"
      },
      "execution_count": 7,
      "outputs": [
        {
          "output_type": "stream",
          "name": "stdout",
          "text": [
            "italic text\n"
          ]
        }
      ]
    },
    {
      "cell_type": "code",
      "source": [
        "import re\n",
        "\n",
        "text = \"hello <i>my</i> name is <i>bob</i>. <b>bye</by>\"\n",
        "pattern = r\"<i>(.*?)<\\/i>\"\n",
        "\n",
        "matches = re.findall(pattern, text)\n",
        "\n",
        "for match in matches:\n",
        "    print(match)"
      ],
      "metadata": {
        "colab": {
          "base_uri": "https://localhost:8080/"
        },
        "id": "MM80aYfBbDzP",
        "outputId": "fbe94a73-46ff-4196-b3d2-02826cfec786"
      },
      "execution_count": 8,
      "outputs": [
        {
          "output_type": "stream",
          "name": "stdout",
          "text": [
            "my\n",
            "bob\n"
          ]
        }
      ]
    },
    {
      "cell_type": "markdown",
      "source": [
        "Regex to find repeating words in a string\n"
      ],
      "metadata": {
        "id": "aDqcpqK_bey4"
      }
    },
    {
      "cell_type": "code",
      "source": [
        "import re\n",
        "\n",
        "text = \"This is a test test for repeated words words.\"\n",
        "pattern = r\"\\b(\\w+)\\s+\\1\\b\"\n",
        "\n",
        "matches = re.findall(pattern, text)\n",
        "\n",
        "for match in matches:\n",
        "    print(match)"
      ],
      "metadata": {
        "colab": {
          "base_uri": "https://localhost:8080/"
        },
        "id": "-84SkfkMbfjQ",
        "outputId": "5609a0f1-c2d2-4b0a-bcfd-fc04655b09a8"
      },
      "execution_count": 9,
      "outputs": [
        {
          "output_type": "stream",
          "name": "stdout",
          "text": [
            "test\n",
            "words\n"
          ]
        }
      ]
    },
    {
      "cell_type": "markdown",
      "source": [
        "Create a regex for dates in format YYYY-MM-DD.\n"
      ],
      "metadata": {
        "id": "0STJNsgEbuhH"
      }
    },
    {
      "cell_type": "code",
      "source": [
        "import re\n",
        "\n",
        "def is_valid_date(date_str):\n",
        "    pattern = r\"^\\d{4}-\\d{2}-\\d{2}$\"\n",
        "    if re.match(pattern, date_str):\n",
        "        return True\n",
        "    else:\n",
        "        return False\n",
        "\n",
        "# Example usage\n",
        "date = \"2023-11-26\"\n",
        "print(is_valid_date(date))  # Output: True or False"
      ],
      "metadata": {
        "colab": {
          "base_uri": "https://localhost:8080/"
        },
        "id": "eqyiw62ibur7",
        "outputId": "a5bdf8b4-5c50-479d-c827-53d630301eea"
      },
      "execution_count": 10,
      "outputs": [
        {
          "output_type": "stream",
          "name": "stdout",
          "text": [
            "True\n"
          ]
        }
      ]
    }
  ]
}